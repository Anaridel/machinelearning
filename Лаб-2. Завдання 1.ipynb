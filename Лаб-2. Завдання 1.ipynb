{
 "cells": [
  {
   "cell_type": "markdown",
   "metadata": {},
   "source": [
    "#  Лабораторна робота №2\n",
    "### навчально-методичний додаток\n",
    "***"
   ]
  },
  {
   "cell_type": "markdown",
   "metadata": {
    "heading_collapsed": true
   },
   "source": [
    "## Завдання № 1 \"Навігація в Jupyter Notebook\"\n",
    "\n",
    "\n",
    "- Продивитись __User Interface Tour__\n",
    "- Відкрити [довідник команд](https://cheatography.com/weidadeyue/cheat-sheets/jupyter-notebook/pdf_bw/)\n",
    "- користуючись довідником виконати операції, які наведено в наступних рядках\n"
   ]
  },
  {
   "cell_type": "markdown",
   "metadata": {
    "hidden": true
   },
   "source": [
    "### перетворити цей рядок в рядок-коментар та ввести своє прізвище в форматі Title-2\n",
    "\n",
    "# Galagan"
   ]
  },
  {
   "cell_type": "markdown",
   "metadata": {
    "hidden": true
   },
   "source": [
    "### Видалити цей рядок"
   ]
  },
  {
   "cell_type": "markdown",
   "metadata": {
    "hidden": true
   },
   "source": [
    "### додати знизу пустий рядок"
   ]
  },
  {
   "cell_type": "code",
   "execution_count": null,
   "metadata": {},
   "outputs": [],
   "source": []
  },
  {
   "cell_type": "raw",
   "metadata": {
    "code_folding": [],
    "hidden": true
   },
   "source": [
    "# відключити в цьому рядку нумерацію строк"
   ]
  },
  {
   "cell_type": "code",
   "execution_count": null,
   "metadata": {},
   "outputs": [],
   "source": []
  },
  {
   "cell_type": "markdown",
   "metadata": {},
   "source": []
  },
  {
   "cell_type": "markdown",
   "metadata": {
    "hidden": true
   },
   "source": [
    "### Додати до цього рядка зверху 2 рядка:\n",
    "1. Командний рядок\n",
    "2. Рядок коментарів"
   ]
  },
  {
   "cell_type": "markdown",
   "metadata": {},
   "source": [
    "## Завдання №2 \" Конструкції Python\"\n",
    "- заповнити пусті рядки вашим рішенням"
   ]
  },
  {
   "cell_type": "markdown",
   "metadata": {
    "heading_collapsed": true
   },
   "source": [
    "### Змінні\n",
    "\n",
    "Ім'я, яке використовується для позначення чогось або значення, називається **змінною**. У python можна оголошувати змінні і присвоювати йому значення наступним чином:\n",
    "\n",
    "- x = 10             \n",
    "- y = -3.1428         \n",
    "- s = \"Вася Пупкін\"\n",
    "- a = [x, y, s]\n",
    "- b = False\n",
    "- t = (y, \"Студент\")\n",
    "\n",
    "---\n",
    "_[Прочитати про типи даних](http://ruslan.rv.ua/python-starter/module01/01-05_types/)_\n",
    "\n",
    "Тип даних можна перевірити наступною інструкцією: `type(<імя змінної>)`"
   ]
  },
  {
   "cell_type": "code",
   "execution_count": 1,
   "metadata": {
    "code_folding": [],
    "hidden": true,
    "run_control": {
     "marked": false
    }
   },
   "outputs": [],
   "source": [
    "# виконайте присвоювання та виведіть типи даних x, y, s, b, t:\n",
    "x = 10\n",
    "y = -3.1428\n",
    "s = \"Вася Пупкін\"\n",
    "a = [x, y, s]\n",
    "b = False\n",
    "t = (y, \"Студент\")\n"
   ]
  },
  {
   "cell_type": "markdown",
   "metadata": {
    "heading_collapsed": true
   },
   "source": [
    "### Опрератори\n",
    "\n",
    "#### арифметичні\n",
    "\n",
    "| Позначка | Виконує |\n",
    "|----|---|\n",
    "| +  | Додавання |\n",
    "| -  | Віднімання |\n",
    "| /  | поділ |\n",
    "| %  | остаток від ділення |\n",
    "| *  | множення |\n",
    "| //  | цілочісельне ділення |\n",
    "| **  | ступінь |"
   ]
  },
  {
   "cell_type": "code",
   "execution_count": 2,
   "metadata": {
    "hidden": true
   },
   "outputs": [
    {
     "name": "stdout",
     "output_type": "stream",
     "text": [
      "6.857200000000001 13.1428 -3.1818760341097114 -2.5711999999999993 -31.427999999999997 -4.0 0.0007197803728026997\n"
     ]
    }
   ],
   "source": [
    "# застосуйте вищенаведені оператори до `x` та `y`:\n",
    "print((x+y),(x-y),(x/y),(x%y),(x*y),(x//y),(x**y))\n"
   ]
  },
  {
   "cell_type": "markdown",
   "metadata": {
    "hidden": true
   },
   "source": [
    "#### порівняння\n",
    "| Позначка | Результат |\n",
    "|----|---|\n",
    "| == | True, якщо рівні |\n",
    "| !=  | True, якщо не рівні |\n",
    "| < | менше |\n",
    "| > | більше |\n",
    "| <=  | менше чи равно |\n",
    "| >=  | більше чи равно |"
   ]
  },
  {
   "cell_type": "code",
   "execution_count": 3,
   "metadata": {
    "hidden": true
   },
   "outputs": [
    {
     "name": "stdout",
     "output_type": "stream",
     "text": [
      "False True False True False True\n"
     ]
    }
   ],
   "source": [
    "# застосуйте вищенаведені оператори до `x` та `y`:\n",
    "print((x==y),(x!=y),(x<y),(x>y),(x<=y),(x>=y))\n"
   ]
  },
  {
   "cell_type": "markdown",
   "metadata": {
    "heading_collapsed": true
   },
   "source": [
    "### Вбудовані функції перетворення типів\n",
    "1. str(<змінна чи вираз>) - перетворення в строку\n",
    "2. int(<змінна чи вираз>) - перетворення в ціле\n",
    "3. float(<змінна чи вираз>) - перетворення в дийсне число\n",
    "\n",
    "[Прочитати про інші функції перетворення типів](https://pyneng.readthedocs.io/ru/latest/book/04_data_structures/convert_type.html)\n"
   ]
  },
  {
   "cell_type": "code",
   "execution_count": 4,
   "metadata": {
    "hidden": true
   },
   "outputs": [
    {
     "name": "stdout",
     "output_type": "stream",
     "text": [
      "13.1428 -1 -6.857200000000001\n"
     ]
    }
   ],
   "source": [
    "# застосуйте (1) функцію до змінних 'x' - 't' , (2) до `x` - 's', (3) - `x` - `y`\n",
    "# (якщо будуть помилки - виправте їх самотуж)\n",
    "print((str(x-t[0])),(int(x)-int(len(s))),(float(-x-y)))\n",
    "\n"
   ]
  },
  {
   "cell_type": "markdown",
   "metadata": {
    "heading_collapsed": true
   },
   "source": [
    "## Завдання №3 \"Введення/вивід з консолі\"\n"
   ]
  },
  {
   "cell_type": "markdown",
   "metadata": {
    "hidden": true
   },
   "source": [
    "- __input__([символьний вираз]) - введення с консолі в _символьному форматі_ (__STDIN__) \n",
    "- __print__(<вираз>) - виведення в консоль (__STDOUT__)\n",
    "\n",
    "Для зчитування рядка зі стандартного вводу використовується функція input (), яка зчитує рядок з клавіатури і повертає значення, яке відразу ж можна привласнити змінним:\n",
    "`s = input()`\n",
    "\n",
    "Функція `input` повертає текстовий рядок. Якщо потрібно зробити так, щоб змінні мали чисельні значення, то відразу ж після зчитування виконаємо перетворення типів за допомогою функції `int` або `float`, і запишемо нове значення:\n",
    "`s1 = int(s)`\n",
    "\n",
    "Краще об'єднати зчитування рядків і перетворення типів, якщо викликати функцію int/float для того значення, яке поверне функція input ():\n",
    "`s = int(input())`"
   ]
  },
  {
   "cell_type": "code",
   "execution_count": 11,
   "metadata": {
    "hidden": true
   },
   "outputs": [
    {
     "name": "stdout",
     "output_type": "stream",
     "text": [
      "input number 2.71 2.71\n"
     ]
    }
   ],
   "source": [
    "# ввести з консолі число 2.71 в змінну 'e'\n",
    "e = float(input(\"input number 2.71 \"))"
   ]
  },
  {
   "cell_type": "code",
   "execution_count": 12,
   "metadata": {
    "hidden": true
   },
   "outputs": [
    {
     "name": "stdout",
     "output_type": "stream",
     "text": [
      "146.1660310351\n"
     ]
    }
   ],
   "source": [
    "# вивести в консоль 'е' в супені 5\n",
    "print(e**5)\n",
    "\n"
   ]
  },
  {
   "cell_type": "markdown",
   "metadata": {
    "hidden": true
   },
   "source": [
    "#### форматування  при виведенні\n",
    "у Python для позначення рядка використовуються одинарні, подвійні та потрійні лапки. Більшість використовують одинарні лапки при оголошенні одного символу. Подвійні лапки при оголошенні рядка та потрійні лапки при оголошенні абзацу / кількох рядків.\n",
    "\n",
    "- 'A' - одиночний символ\n",
    "- \"Студент Вася\" - рядок символів\n",
    "- \"\"\" Перший рядок \n",
    "    \n",
    "      Другий рядок\n",
    "      \n",
    "      ...\"\"\"\n"
   ]
  },
  {
   "cell_type": "code",
   "execution_count": 14,
   "metadata": {
    "hidden": true
   },
   "outputs": [
    {
     "name": "stdout",
     "output_type": "stream",
     "text": [
      "Вася Пупкін\n",
      "1+1 -> 2\n"
     ]
    }
   ],
   "source": [
    "# Рядки можуть бути призначені змінним наприкалд `name` та `surname`, \n",
    "# які можна викликати при використанні оператора print.\n",
    "# Виконайте код, який наведено нижче\n",
    "name = \"Вася\"\n",
    "surname = \"Пупкін\"\n",
    "print (name, surname)\n",
    "print(\"1+1\", 2, sep=\" -> \")"
   ]
  },
  {
   "cell_type": "markdown",
   "metadata": {
    "hidden": true
   },
   "source": [
    "Напишіть нижче, для чого нужна '`,`' та `sep` в функції `print()`:\n",
    "\n",
    "1.Кома потрібна щоб поділити різні змінні та значення зсередини коду, щоб відображати іх в одному рядочку.\n",
    "\n",
    "2.\"sep\" виконує функцію підстановки значень в скобках в кожний визначений осередок.\n",
    "\n"
   ]
  },
  {
   "cell_type": "markdown",
   "metadata": {
    "hidden": true
   },
   "source": [
    "### форматування в функції `print()`\n",
    "\n",
    "[Прочитати про методи форматування вивода](https://webdevblog.ru/f-stroki-python-3-uluchshennyj-sintaksis-formatirovaniya-strok/)"
   ]
  },
  {
   "cell_type": "code",
   "execution_count": 15,
   "metadata": {
    "hidden": true,
    "run_control": {
     "marked": false
    }
   },
   "outputs": [
    {
     "name": "stdout",
     "output_type": "stream",
     "text": [
      "Вася Пупкін - це студент\n",
      "Результат буде = 12.4\n",
      "Вася - True хлопець!\n",
      "Пупкін Вася\n"
     ]
    }
   ],
   "source": [
    "# виконати код та розібратись, чому функція `print()...format` спрацювала таким чином\n",
    "print(\"{} {} - це студент\".format(name, surname))\n",
    "print(\"Результат буде = {}\".format(42 / 5 + 4))\n",
    "b = True\n",
    "print(\"{} - {} хлопець!\".format(name, b))\n",
    "print(\"{} {}\".format(surname, name))"
   ]
  },
  {
   "cell_type": "markdown",
   "metadata": {},
   "source": [
    "## Завдання №4 \"Керування обчисленнями\""
   ]
  },
  {
   "cell_type": "markdown",
   "metadata": {
    "run_control": {
     "marked": false
    }
   },
   "source": [
    "### Умовний оператор if / if-else / if-elif"
   ]
  },
  {
   "cell_type": "markdown",
   "metadata": {},
   "source": [
    "`if <логічний вираз(умова)> :\n",
    "  <код>`\n",
    "  \n",
    "`if <логічний вираз(умова)> :\n",
    "  <код>\n",
    " else :\n",
    "    <код>`\n",
    "\n",
    "`if <логічний вираз(умова)> :\n",
    "  <код>\n",
    " elif <логічний вираз_1(умова)> :\n",
    "  <код>\n",
    " elif <логічний вираз_2(умова)> :\n",
    "  <код>\n",
    "... \n",
    " [else] :\n",
    "   <код>`"
   ]
  },
  {
   "cell_type": "code",
   "execution_count": 18,
   "metadata": {},
   "outputs": [
    {
     "name": "stdout",
     "output_type": "stream",
     "text": [
      "Введи x: 31\n",
      "31\n",
      "961\n",
      "31\n"
     ]
    }
   ],
   "source": [
    "x = int(input(\"Введи x: \"))\n",
    "\n",
    "# ----- 1 ----------\n",
    "if x > 5:\n",
    "    print (x)\n",
    "    \n",
    "# ----- 2 ----------    \n",
    "if -5 < x < 5 :\n",
    "    print (x)\n",
    "else:\n",
    "    print (x ** 2)\n",
    "    \n",
    "# ----- 3 ----------\n",
    "if x > -5:\n",
    "    print (x)\n",
    "elif -5 < x < 5:\n",
    "    print (x ** 2)\n",
    "elif x > 5:\n",
    "    print (x ** (1/2))"
   ]
  },
  {
   "cell_type": "markdown",
   "metadata": {},
   "source": [
    "напишіть, який __if__ спрацював при:\n",
    "\n",
    "x = -20     №2 else.\n",
    "\n",
    "x = 31.5    спрацювали №1 if, №2 else і №3 if.\n",
    "\n",
    "x = 4       спрацювали №2 і №3 if."
   ]
  },
  {
   "cell_type": "code",
   "execution_count": 20,
   "metadata": {},
   "outputs": [
    {
     "name": "stdout",
     "output_type": "stream",
     "text": [
      "Input age24\n",
      "_student\n"
     ]
    }
   ],
   "source": [
    "# напишить нижче код, який виводить слово 'студент', 'школяр' або 'малятко' \n",
    "# в залежності від введенного через консоль віку\n",
    "\n",
    "age=int(input(\"Input age\"))\n",
    "if 0<=age<=7:\n",
    "    print(\"_kid\")\n",
    "elif 6<age<=18:\n",
    "    print(\"_schoolboy\")\n",
    "elif 18<age<=27:\n",
    "    print(\"_student\")\n",
    "else:\n",
    "    print(\"you entered wrong age\")"
   ]
  },
  {
   "cell_type": "markdown",
   "metadata": {},
   "source": [
    "### Цикли"
   ]
  },
  {
   "cell_type": "markdown",
   "metadata": {},
   "source": [
    "#### for\n",
    "\n",
    "`for <змінна> in <перераховуємий об'єкт>\n",
    "    код`\n",
    "    \n",
    "    \n",
    "__перераховуємий об'єкт__ - це об'єкт, який складається із декількох послідовних складових (чисел, строк та ін.)\n",
    "\n",
    "- 1, 13, -10, 321\n",
    "- \"Вася\", \"Пупкін\", \"студент\"\n",
    "- \"Вася\", -10.1, True\n",
    "\n",
    "[Прочитати про функцію `range`](https://python-scripts.com/range)"
   ]
  },
  {
   "cell_type": "code",
   "execution_count": 21,
   "metadata": {},
   "outputs": [
    {
     "name": "stdout",
     "output_type": "stream",
     "text": [
      "-1\n",
      "-3\n",
      "-5\n",
      "-7\n",
      "-9\n"
     ]
    }
   ],
   "source": [
    "# приклад цикла з 'for' та 'if'\n",
    "for i in range(10):\n",
    "    if i % 2 != 0:\n",
    "        print (-i)\n",
    "    else:\n",
    "        pass"
   ]
  },
  {
   "cell_type": "markdown",
   "metadata": {},
   "source": [
    "напишить своїми словами, що виконує наведений вище код\n",
    "\n",
    "Цикл запускає 10 разів перевірку, де кожний loop починаючи з 0 додаючи +1 перевіряє на парність або непарність. Якщо можна поділити на 2, то виводить -і. В іншому випадку - працює функція pass.\n"
   ]
  },
  {
   "cell_type": "code",
   "execution_count": 22,
   "metadata": {},
   "outputs": [
    {
     "name": "stdout",
     "output_type": "stream",
     "text": [
      "1665\n"
     ]
    }
   ],
   "source": [
    "# напишіть нижче код, який сумує числа, які діляться без остатка на 3 \n",
    "# в інтервалі від 10 до 100\n",
    "\n",
    "summ=0\n",
    "for i in range(101):\n",
    "    if i>=10:\n",
    "        if i%3==0:\n",
    "            summ+=i\n",
    "print(summ)"
   ]
  },
  {
   "cell_type": "markdown",
   "metadata": {},
   "source": [
    "#### while\n",
    "\n",
    "[прочитати про цикл while](https://pythontutor.ru/lessons/while/)"
   ]
  },
  {
   "cell_type": "code",
   "execution_count": 23,
   "metadata": {},
   "outputs": [
    {
     "name": "stdout",
     "output_type": "stream",
     "text": [
      "тисни тут: 3\n",
      "було введено\n",
      "тисни тут: 9\n",
      "було введено\n",
      "тисни тут: k\n",
      "було введено\n",
      "тисни тут: 0\n"
     ]
    }
   ],
   "source": [
    "# запустіть цей код \n",
    "while(input(\"тисни тут: \") != '0'):\n",
    "    print (\"було введено\")"
   ]
  },
  {
   "cell_type": "markdown",
   "metadata": {},
   "source": [
    "поясніть своїми словами, що виконує наведений вище код\n",
    "\n",
    "Цикл працює до брейкпоінту: введення 0."
   ]
  },
  {
   "cell_type": "code",
   "execution_count": 24,
   "metadata": {},
   "outputs": [
    {
     "name": "stdout",
     "output_type": "stream",
     "text": [
      "1665\n"
     ]
    }
   ],
   "source": [
    "# використовуючи 'while`напишіть нижче код, який сумує числа, \n",
    "# які діляться без залишка на 3 в інтервалі від 10 до 100\n",
    "i=0\n",
    "summ2=0\n",
    "while i<=100:\n",
    "    if i>=10:\n",
    "        if i%3==0:\n",
    "            summ2+=i\n",
    "    i+=1\n",
    "print(summ2)"
   ]
  },
  {
   "cell_type": "code",
   "execution_count": null,
   "metadata": {},
   "outputs": [],
   "source": []
  }
 ],
 "metadata": {
  "kernelspec": {
   "display_name": "Python 3",
   "language": "python",
   "name": "python3"
  },
  "language_info": {
   "codemirror_mode": {
    "name": "ipython",
    "version": 3
   },
   "file_extension": ".py",
   "mimetype": "text/x-python",
   "name": "python",
   "nbconvert_exporter": "python",
   "pygments_lexer": "ipython3",
   "version": "3.9.5"
  }
 },
 "nbformat": 4,
 "nbformat_minor": 2
}
